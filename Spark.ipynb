{
  "nbformat": 4,
  "nbformat_minor": 0,
  "metadata": {
    "colab": {
      "provenance": [],
      "authorship_tag": "ABX9TyOW2bgm2Z8xJHFFbYILdSYW",
      "include_colab_link": true
    },
    "kernelspec": {
      "name": "python3",
      "display_name": "Python 3"
    },
    "language_info": {
      "name": "python"
    }
  },
  "cells": [
    {
      "cell_type": "markdown",
      "metadata": {
        "id": "view-in-github",
        "colab_type": "text"
      },
      "source": [
        "<a href=\"https://colab.research.google.com/github/pradhansankalp10/SPARK-Programing/blob/main/Spark.ipynb\" target=\"_parent\"><img src=\"https://colab.research.google.com/assets/colab-badge.svg\" alt=\"Open In Colab\"/></a>"
      ]
    },
    {
      "cell_type": "code",
      "execution_count": null,
      "metadata": {
        "colab": {
          "base_uri": "https://localhost:8080/"
        },
        "id": "eOloqj0lTO5K",
        "outputId": "af2155e5-3ed9-4f99-dcf0-9e338763c068"
      },
      "outputs": [
        {
          "output_type": "stream",
          "name": "stdout",
          "text": [
            "Requirement already satisfied: pyspark in /usr/local/lib/python3.10/dist-packages (3.5.3)\n",
            "Requirement already satisfied: py4j==0.10.9.7 in /usr/local/lib/python3.10/dist-packages (from pyspark) (0.10.9.7)\n"
          ]
        }
      ],
      "source": [
        "!pip install pyspark\n",
        "from pyspark.sql import SparkSession\n",
        "spark = SparkSession.builder.appName('SparkByExamples.com').getOrCreate()"
      ]
    },
    {
      "cell_type": "code",
      "source": [
        "from pyspark.sql import SparkSession\n",
        "spark = SparkSession.builder.appName('SparkByExamples.com').getOrCreate()"
      ],
      "metadata": {
        "id": "ZuXZzR75URtG"
      },
      "execution_count": null,
      "outputs": []
    },
    {
      "cell_type": "code",
      "source": [
        "spark"
      ],
      "metadata": {
        "colab": {
          "base_uri": "https://localhost:8080/",
          "height": 219
        },
        "id": "fPxWnypDURvI",
        "outputId": "2da5dbed-c78b-4893-a9eb-7b837e902663"
      },
      "execution_count": null,
      "outputs": [
        {
          "output_type": "execute_result",
          "data": {
            "text/plain": [
              "<pyspark.sql.session.SparkSession at 0x7ea3abf1d810>"
            ],
            "text/html": [
              "\n",
              "            <div>\n",
              "                <p><b>SparkSession - in-memory</b></p>\n",
              "                \n",
              "        <div>\n",
              "            <p><b>SparkContext</b></p>\n",
              "\n",
              "            <p><a href=\"http://5d12dde20d82:4040\">Spark UI</a></p>\n",
              "\n",
              "            <dl>\n",
              "              <dt>Version</dt>\n",
              "                <dd><code>v3.5.3</code></dd>\n",
              "              <dt>Master</dt>\n",
              "                <dd><code>local[*]</code></dd>\n",
              "              <dt>AppName</dt>\n",
              "                <dd><code>SparkByExamples.com</code></dd>\n",
              "            </dl>\n",
              "        </div>\n",
              "        \n",
              "            </div>\n",
              "        "
            ]
          },
          "metadata": {},
          "execution_count": 3
        }
      ]
    },
    {
      "cell_type": "code",
      "source": [
        "from pyspark.sql import SparkSession\n",
        "\n",
        "spark = SparkSession.builder \\\n",
        "    .appName(\"WordCount\") \\\n",
        "    .getOrCreate()\n",
        "\n",
        "file_path = \"/content/spark word.txt\"\n",
        "\n",
        "text_file = spark.sparkContext.textFile(file_path)\n",
        "\n",
        "word_counts = (\n",
        "    text_file.flatMap(lambda line: line.split())\n",
        "             .map(lambda word: (word, 1))\n",
        "             .reduceByKey(lambda a, b: a + b)\n",
        ")\n",
        "\n",
        "for word, count in word_counts.collect():\n",
        "    print(f\"{word}: {count}\")\n",
        "\n",
        "spark.stop()"
      ],
      "metadata": {
        "colab": {
          "base_uri": "https://localhost:8080/"
        },
        "id": "99JYDo_xURyi",
        "outputId": "62571868-b3b8-4199-d11b-25e4f4f618af"
      },
      "execution_count": null,
      "outputs": [
        {
          "output_type": "stream",
          "name": "stdout",
          "text": [
            "Metadata: 1\n",
            "is: 3\n",
            "defined: 1\n",
            "as: 3\n",
            "“data: 1\n",
            "data”—it: 1\n",
            "provides: 1\n",
            "describes,: 1\n",
            "other: 1\n",
            "data.: 2\n",
            "bioinformatics,: 4\n",
            "metadata: 3\n",
            "large: 1\n",
            "researchers: 1\n",
            "understand: 1\n",
            "origin,: 1\n",
            "meaning: 1\n",
            "of: 5\n",
            "are: 2\n",
            "working: 1\n",
            "Metadata:: 5\n",
            "•: 4\n",
            "this: 2\n",
            "include: 1\n",
            "type: 1\n",
            "sequencing: 1\n",
            "platform,: 2\n",
            "gene: 2\n",
            "names,: 1\n",
            "conditions.: 1\n",
            "expression: 1\n",
            "have: 1\n",
            "descriptive: 1\n",
            "sequenced: 2\n",
            "2022-06-15”.: 1\n",
            "Describes: 2\n",
            "structural: 1\n",
            "describe: 1\n",
            "format: 1\n",
            "(e.g.:: 1\n",
            "FASTA,: 1\n",
            "related.: 1\n",
            "“FASTA: 1\n",
            "format,: 1\n",
            "sequence: 2\n",
            "starts: 1\n",
            "‘>’: 1\n",
            "identifier.”: 1\n",
            "when: 1\n",
            "was: 3\n",
            "collected,: 1\n",
            "rights.: 1\n",
            "“Collected: 1\n",
            "XYZ: 1\n",
            "Lab,: 1\n",
            "xyz@lab.com,: 1\n",
            "publicly: 1\n",
            "CC: 1\n",
            "license.”: 1\n",
            "generated: 1\n",
            "processed.: 1\n",
            "samples,: 1\n",
            "steps.: 1\n",
            "“RNA: 1\n",
            "extracted: 1\n",
            "using: 1\n",
            "poly-A: 1\n",
            "an: 1\n",
            "about: 3\n",
            "information: 4\n",
            "that: 1\n",
            "explains,: 1\n",
            "or: 6\n",
            "gives: 1\n",
            "context: 1\n",
            "to: 1\n",
            "In: 4\n",
            "crucial: 1\n",
            "for: 2\n",
            "interpreting: 1\n",
            "and: 4\n",
            "managing: 2\n",
            "biological: 3\n",
            "datasets,: 1\n",
            "it: 3\n",
            "helps: 1\n",
            "the: 12\n",
            "structure,: 1\n",
            "data: 3\n",
            "they: 1\n",
            "with.: 1\n",
            "Key: 1\n",
            "Aspects: 1\n",
            "Descriptive: 1\n",
            "Provides: 2\n",
            "content: 1\n",
            "can: 1\n",
            "sample,: 1\n",
            "experimental: 2\n",
            "Example:: 4\n",
            "A: 1\n",
            "dataset: 1\n",
            "might: 2\n",
            "such: 1\n",
            "“Human: 1\n",
            "liver: 1\n",
            "tissue,: 1\n",
            "RNA-seq: 1\n",
            "data,: 4\n",
            "Illumina: 2\n",
            "on: 2\n",
            "Structural: 1\n",
            "how: 3\n",
            "organized.: 1\n",
            "file: 1\n",
            "BAM): 1\n",
            "entries: 1\n",
            "each: 1\n",
            "entry: 1\n",
            "with: 1\n",
            "a: 1\n",
            "followed: 2\n",
            "by: 3\n",
            "Administrative: 1\n",
            "including: 2\n",
            "who: 1\n",
            "collected: 1\n",
            "access: 1\n",
            "contact: 1\n",
            "email:: 1\n",
            "available: 1\n",
            "under: 1\n",
            "BY: 1\n",
            "4.0: 1\n",
            "Provenance: 1\n",
            "history: 1\n",
            "origins: 1\n",
            "includes: 1\n",
            "protocols,: 1\n",
            "any: 1\n",
            "preprocessing: 1\n",
            "TRIzol: 1\n",
            "reagent,: 1\n",
            "selection,: 1\n",
            "HiSeq: 1\n",
            "4000”.: 1\n"
          ]
        }
      ]
    },
    {
      "cell_type": "code",
      "source": [
        "import zipfile\n",
        "import os\n",
        "\n",
        "zip_path = '/content/football video.zip'\n",
        "extraction_path = '/mnt/data/football_video/'\n",
        "\n",
        "with zipfile.ZipFile(zip_path, 'r') as zip_ref:\n",
        "    zip_ref.extractall(extraction_path)\n",
        "\n",
        "os.listdir(extraction_path)\n"
      ],
      "metadata": {
        "colab": {
          "base_uri": "https://localhost:8080/"
        },
        "id": "ntRlLgyCXJXL",
        "outputId": "92e1d9e6-4f28-4ca1-d874-5e814f4cdfcf"
      },
      "execution_count": null,
      "outputs": [
        {
          "output_type": "execute_result",
          "data": {
            "text/plain": [
              "['Annotated', 'Live match images', 'madrid vs city.mp4']"
            ]
          },
          "metadata": {},
          "execution_count": 5
        }
      ]
    },
    {
      "source": [
        "import zipfile\n",
        "import os\n",
        "\n",
        "zip_path = '/content/football video.zip'\n",
        "extraction_path = '/content/Sankalp'\n",
        "\n",
        "os.makedirs(extraction_path, exist_ok=True)\n",
        "\n",
        "try:\n",
        "    with zipfile.ZipFile(zip_path, 'r') as zip_ref:\n",
        "        zip_ref.extractall(extraction_path)\n",
        "    print(f\"Successfully unzipped to {extraction_path}\")\n",
        "except FileNotFoundError:\n",
        "    print(f\"Error: File not found at {zip_path}\")\n",
        "except zipfile.BadZipFile:\n",
        "    print(f\"Error: Invalid zip file at {zip_path}\")\n",
        "except Exception as e:\n",
        "    print(f\"An unexpected error occurred: {e}\")\n",
        "\n",
        "print(\"Files in the Sankalp directory:\")\n",
        "for filename in os.listdir(extraction_path):\n",
        "    filename"
      ],
      "cell_type": "code",
      "metadata": {
        "colab": {
          "base_uri": "https://localhost:8080/"
        },
        "id": "Sniw1EHEYwb6",
        "outputId": "87529613-b781-4499-f40d-2e810e8e3582"
      },
      "execution_count": null,
      "outputs": [
        {
          "output_type": "stream",
          "name": "stdout",
          "text": [
            "Successfully unzipped to /content/Sankalp\n",
            "Files in the Sankalp directory:\n"
          ]
        }
      ]
    },
    {
      "cell_type": "code",
      "source": [
        "import zipfile\n",
        "import os\n",
        "zip_file_path = '/content/football video.zip'\n",
        "extraction_path = '/mnt/data/football_video/'\n",
        "\n",
        "with zipfile.ZipFile(zip_file_path, 'r') as zip_ref:\n",
        "    zip_ref.extractall(extraction_path)\n",
        "\n",
        "print(\"Files in extraction directory:\", os.listdir(extraction_path))\n"
      ],
      "metadata": {
        "colab": {
          "base_uri": "https://localhost:8080/"
        },
        "id": "XGx4N1gbZ0II",
        "outputId": "e4c47316-f0db-464b-fa11-5c63e1a72254"
      },
      "execution_count": null,
      "outputs": [
        {
          "output_type": "stream",
          "name": "stdout",
          "text": [
            "Files in extraction directory: ['Annotated', 'Live match images', 'madrid vs city.mp4']\n"
          ]
        }
      ]
    },
    {
      "cell_type": "code",
      "source": [
        "video_filename = \"/content/Sankalp/madrid vs city.mp4\"\n",
        "video_path = os.path.join(extraction_path, video_filename)\n"
      ],
      "metadata": {
        "id": "TIIux_8qZ0Pa"
      },
      "execution_count": null,
      "outputs": []
    },
    {
      "cell_type": "code",
      "source": [
        "import cv2\n",
        "\n",
        "cap = cv2.VideoCapture(video_path)\n",
        "if not cap.isOpened():\n",
        "    print(\"Error: Video file could not be opened. Check the file path and format.\")\n",
        "else:\n",
        "    ret, frame = cap.read()\n",
        "    if ret:\n",
        "        print(\"Successfully read a frame from the video.\")\n",
        "    else:\n",
        "        print(\"Error: Could not read a frame. The video might be corrupted.\")\n",
        "cap.release()\n"
      ],
      "metadata": {
        "colab": {
          "base_uri": "https://localhost:8080/"
        },
        "id": "kNEpoUnvbIXf",
        "outputId": "d310ed85-d1ba-4efd-b49e-23cbacebff2f"
      },
      "execution_count": null,
      "outputs": [
        {
          "output_type": "stream",
          "name": "stdout",
          "text": [
            "Successfully read a frame from the video.\n"
          ]
        }
      ]
    },
    {
      "cell_type": "code",
      "source": [
        "from pyspark.sql import SparkSession\n",
        "spark = SparkSession.builder \\\n",
        "    .appName(\"FootballMatchAnalysis\") \\\n",
        "    .getOrCreate()\n"
      ],
      "metadata": {
        "id": "i32rXlJ9bPSV"
      },
      "execution_count": null,
      "outputs": []
    },
    {
      "cell_type": "code",
      "source": [
        "def extract_frames(video_path, frame_skip=10):\n",
        "    cap = cv2.VideoCapture(video_path)\n",
        "    frames = []\n",
        "    frame_count = 0\n",
        "\n",
        "    if not cap.isOpened():\n",
        "        print(\"Error: Could not open video file.\")\n",
        "        return frames\n",
        "\n",
        "    while cap.isOpened():\n",
        "        ret, frame = cap.read()\n",
        "        if not ret:\n",
        "            break\n",
        "\n",
        "        if frame_count % frame_skip == 0:\n",
        "            frame_resized = cv2.resize(frame, (640, 360))\n",
        "            _, buffer = cv2.imencode('.jpg', frame_resized)\n",
        "            frames.append(buffer.tobytes())\n",
        "\n",
        "        frame_count += 1\n",
        "\n",
        "    cap.release()\n",
        "    print(f\"Extracted {len(frames)} frames from the video.\")\n",
        "    return frames\n"
      ],
      "metadata": {
        "id": "4BKwtvCgbPso"
      },
      "execution_count": null,
      "outputs": []
    },
    {
      "cell_type": "code",
      "source": [
        "frames = extract_frames(video_path)\n",
        "if not frames:\n",
        "    print(\"No frames extracted. Check the video path or format.\")\n",
        "else:\n",
        "    print(f\"Number of frames extracted: {len(frames)}\")\n"
      ],
      "metadata": {
        "colab": {
          "base_uri": "https://localhost:8080/"
        },
        "id": "iQDaXrAebYke",
        "outputId": "20f49b56-6f18-4eee-c754-00dcb9c51e96"
      },
      "execution_count": null,
      "outputs": [
        {
          "output_type": "stream",
          "name": "stdout",
          "text": [
            "Extracted 306 frames from the video.\n",
            "Number of frames extracted: 306\n"
          ]
        }
      ]
    },
    {
      "cell_type": "code",
      "source": [
        "frames_rdd = spark.sparkContext.parallelize(frames)\n"
      ],
      "metadata": {
        "id": "MegHyz53bYmU"
      },
      "execution_count": null,
      "outputs": []
    },
    {
      "cell_type": "code",
      "source": [
        "import numpy as np\n",
        "\n",
        "def process_frame(frame_bytes):\n",
        "    nparr = np.frombuffer(frame_bytes, np.uint8)\n",
        "    frame = cv2.imdecode(nparr, cv2.IMREAD_COLOR)\n",
        "    gray_frame = cv2.cvtColor(frame, cv2.COLOR_BGR2GRAY)\n",
        "    edges = cv2.Canny(gray_frame, 100, 200)\n",
        "\n",
        "    edge_count = np.count_nonzero(edges)\n",
        "\n",
        "    contours, _ = cv2.findContours(edges, cv2.RETR_EXTERNAL, cv2.CHAIN_APPROX_SIMPLE)\n",
        "    player_count = len(contours)\n",
        "\n",
        "    return {\"edge_count\": edge_count, \"player_count\": player_count}\n"
      ],
      "metadata": {
        "id": "3gD64XNQbYpv"
      },
      "execution_count": null,
      "outputs": []
    },
    {
      "cell_type": "code",
      "source": [
        "frame_analysis = frames_rdd.map(process_frame).collect()\n",
        "for idx, result in enumerate(frame_analysis):\n",
        "    print(f\"Frame {idx}: Edge Count = {result['edge_count']}, Player/Object Count = {result['player_count']}\")\n"
      ],
      "metadata": {
        "colab": {
          "base_uri": "https://localhost:8080/"
        },
        "id": "NieBvCcgblvu",
        "outputId": "9197332d-4dde-4a24-ddbd-8838459d9732"
      },
      "execution_count": null,
      "outputs": [
        {
          "output_type": "stream",
          "name": "stdout",
          "text": [
            "Frame 0: Edge Count = 3018, Player/Object Count = 53\n",
            "Frame 1: Edge Count = 3563, Player/Object Count = 75\n",
            "Frame 2: Edge Count = 3830, Player/Object Count = 65\n",
            "Frame 3: Edge Count = 3689, Player/Object Count = 83\n",
            "Frame 4: Edge Count = 3837, Player/Object Count = 66\n",
            "Frame 5: Edge Count = 4206, Player/Object Count = 74\n",
            "Frame 6: Edge Count = 15725, Player/Object Count = 337\n",
            "Frame 7: Edge Count = 16842, Player/Object Count = 349\n",
            "Frame 8: Edge Count = 17162, Player/Object Count = 339\n",
            "Frame 9: Edge Count = 16948, Player/Object Count = 369\n",
            "Frame 10: Edge Count = 17799, Player/Object Count = 411\n",
            "Frame 11: Edge Count = 18671, Player/Object Count = 474\n",
            "Frame 12: Edge Count = 20127, Player/Object Count = 508\n",
            "Frame 13: Edge Count = 21305, Player/Object Count = 532\n",
            "Frame 14: Edge Count = 21692, Player/Object Count = 495\n",
            "Frame 15: Edge Count = 22986, Player/Object Count = 610\n",
            "Frame 16: Edge Count = 23106, Player/Object Count = 558\n",
            "Frame 17: Edge Count = 23069, Player/Object Count = 574\n",
            "Frame 18: Edge Count = 23339, Player/Object Count = 615\n",
            "Frame 19: Edge Count = 22183, Player/Object Count = 551\n",
            "Frame 20: Edge Count = 20840, Player/Object Count = 516\n",
            "Frame 21: Edge Count = 19928, Player/Object Count = 382\n",
            "Frame 22: Edge Count = 17060, Player/Object Count = 389\n",
            "Frame 23: Edge Count = 16035, Player/Object Count = 378\n",
            "Frame 24: Edge Count = 15422, Player/Object Count = 333\n",
            "Frame 25: Edge Count = 14084, Player/Object Count = 282\n",
            "Frame 26: Edge Count = 13623, Player/Object Count = 274\n",
            "Frame 27: Edge Count = 14191, Player/Object Count = 253\n",
            "Frame 28: Edge Count = 14475, Player/Object Count = 271\n",
            "Frame 29: Edge Count = 15015, Player/Object Count = 263\n",
            "Frame 30: Edge Count = 14071, Player/Object Count = 283\n",
            "Frame 31: Edge Count = 13374, Player/Object Count = 257\n",
            "Frame 32: Edge Count = 12045, Player/Object Count = 267\n",
            "Frame 33: Edge Count = 11133, Player/Object Count = 259\n",
            "Frame 34: Edge Count = 11418, Player/Object Count = 284\n",
            "Frame 35: Edge Count = 11102, Player/Object Count = 236\n",
            "Frame 36: Edge Count = 10829, Player/Object Count = 265\n",
            "Frame 37: Edge Count = 12453, Player/Object Count = 296\n",
            "Frame 38: Edge Count = 13349, Player/Object Count = 265\n",
            "Frame 39: Edge Count = 14284, Player/Object Count = 332\n",
            "Frame 40: Edge Count = 14617, Player/Object Count = 318\n",
            "Frame 41: Edge Count = 15877, Player/Object Count = 359\n",
            "Frame 42: Edge Count = 17120, Player/Object Count = 364\n",
            "Frame 43: Edge Count = 19675, Player/Object Count = 437\n",
            "Frame 44: Edge Count = 20001, Player/Object Count = 464\n",
            "Frame 45: Edge Count = 22168, Player/Object Count = 467\n",
            "Frame 46: Edge Count = 23814, Player/Object Count = 525\n",
            "Frame 47: Edge Count = 25056, Player/Object Count = 504\n",
            "Frame 48: Edge Count = 25305, Player/Object Count = 608\n",
            "Frame 49: Edge Count = 25029, Player/Object Count = 635\n",
            "Frame 50: Edge Count = 24763, Player/Object Count = 609\n",
            "Frame 51: Edge Count = 25393, Player/Object Count = 617\n",
            "Frame 52: Edge Count = 25143, Player/Object Count = 705\n",
            "Frame 53: Edge Count = 25368, Player/Object Count = 663\n",
            "Frame 54: Edge Count = 26839, Player/Object Count = 664\n",
            "Frame 55: Edge Count = 16034, Player/Object Count = 451\n",
            "Frame 56: Edge Count = 13501, Player/Object Count = 385\n",
            "Frame 57: Edge Count = 12780, Player/Object Count = 363\n",
            "Frame 58: Edge Count = 8413, Player/Object Count = 264\n",
            "Frame 59: Edge Count = 10766, Player/Object Count = 277\n",
            "Frame 60: Edge Count = 8879, Player/Object Count = 279\n",
            "Frame 61: Edge Count = 8359, Player/Object Count = 242\n",
            "Frame 62: Edge Count = 9123, Player/Object Count = 239\n",
            "Frame 63: Edge Count = 11910, Player/Object Count = 266\n",
            "Frame 64: Edge Count = 14378, Player/Object Count = 319\n",
            "Frame 65: Edge Count = 16068, Player/Object Count = 374\n",
            "Frame 66: Edge Count = 14471, Player/Object Count = 338\n",
            "Frame 67: Edge Count = 17669, Player/Object Count = 408\n",
            "Frame 68: Edge Count = 33682, Player/Object Count = 675\n",
            "Frame 69: Edge Count = 34201, Player/Object Count = 676\n",
            "Frame 70: Edge Count = 24647, Player/Object Count = 592\n",
            "Frame 71: Edge Count = 19195, Player/Object Count = 489\n",
            "Frame 72: Edge Count = 14618, Player/Object Count = 370\n",
            "Frame 73: Edge Count = 18499, Player/Object Count = 453\n",
            "Frame 74: Edge Count = 18772, Player/Object Count = 444\n",
            "Frame 75: Edge Count = 18307, Player/Object Count = 423\n",
            "Frame 76: Edge Count = 17017, Player/Object Count = 358\n",
            "Frame 77: Edge Count = 17299, Player/Object Count = 374\n",
            "Frame 78: Edge Count = 17377, Player/Object Count = 418\n",
            "Frame 79: Edge Count = 18506, Player/Object Count = 436\n",
            "Frame 80: Edge Count = 18007, Player/Object Count = 401\n",
            "Frame 81: Edge Count = 16728, Player/Object Count = 421\n",
            "Frame 82: Edge Count = 16666, Player/Object Count = 468\n",
            "Frame 83: Edge Count = 18172, Player/Object Count = 486\n",
            "Frame 84: Edge Count = 20197, Player/Object Count = 492\n",
            "Frame 85: Edge Count = 21290, Player/Object Count = 504\n",
            "Frame 86: Edge Count = 22227, Player/Object Count = 520\n",
            "Frame 87: Edge Count = 22807, Player/Object Count = 494\n",
            "Frame 88: Edge Count = 24565, Player/Object Count = 547\n",
            "Frame 89: Edge Count = 25606, Player/Object Count = 579\n",
            "Frame 90: Edge Count = 26888, Player/Object Count = 596\n",
            "Frame 91: Edge Count = 28043, Player/Object Count = 720\n",
            "Frame 92: Edge Count = 28449, Player/Object Count = 660\n",
            "Frame 93: Edge Count = 25696, Player/Object Count = 578\n",
            "Frame 94: Edge Count = 23869, Player/Object Count = 574\n",
            "Frame 95: Edge Count = 24202, Player/Object Count = 599\n",
            "Frame 96: Edge Count = 18057, Player/Object Count = 277\n",
            "Frame 97: Edge Count = 13625, Player/Object Count = 237\n",
            "Frame 98: Edge Count = 13938, Player/Object Count = 258\n",
            "Frame 99: Edge Count = 18821, Player/Object Count = 287\n",
            "Frame 100: Edge Count = 21068, Player/Object Count = 408\n",
            "Frame 101: Edge Count = 22337, Player/Object Count = 452\n",
            "Frame 102: Edge Count = 26988, Player/Object Count = 556\n",
            "Frame 103: Edge Count = 28545, Player/Object Count = 558\n",
            "Frame 104: Edge Count = 30468, Player/Object Count = 607\n",
            "Frame 105: Edge Count = 32109, Player/Object Count = 621\n",
            "Frame 106: Edge Count = 34663, Player/Object Count = 657\n",
            "Frame 107: Edge Count = 36261, Player/Object Count = 666\n",
            "Frame 108: Edge Count = 37150, Player/Object Count = 716\n",
            "Frame 109: Edge Count = 26369, Player/Object Count = 616\n",
            "Frame 110: Edge Count = 26467, Player/Object Count = 567\n",
            "Frame 111: Edge Count = 25283, Player/Object Count = 545\n",
            "Frame 112: Edge Count = 20455, Player/Object Count = 404\n",
            "Frame 113: Edge Count = 13866, Player/Object Count = 276\n",
            "Frame 114: Edge Count = 10386, Player/Object Count = 193\n",
            "Frame 115: Edge Count = 8429, Player/Object Count = 166\n",
            "Frame 116: Edge Count = 7871, Player/Object Count = 154\n",
            "Frame 117: Edge Count = 10274, Player/Object Count = 245\n",
            "Frame 118: Edge Count = 14792, Player/Object Count = 361\n",
            "Frame 119: Edge Count = 17072, Player/Object Count = 501\n",
            "Frame 120: Edge Count = 17379, Player/Object Count = 487\n",
            "Frame 121: Edge Count = 17631, Player/Object Count = 490\n",
            "Frame 122: Edge Count = 18236, Player/Object Count = 447\n",
            "Frame 123: Edge Count = 19317, Player/Object Count = 557\n",
            "Frame 124: Edge Count = 19784, Player/Object Count = 567\n",
            "Frame 125: Edge Count = 20746, Player/Object Count = 460\n",
            "Frame 126: Edge Count = 21790, Player/Object Count = 535\n",
            "Frame 127: Edge Count = 23206, Player/Object Count = 548\n",
            "Frame 128: Edge Count = 23469, Player/Object Count = 499\n",
            "Frame 129: Edge Count = 23113, Player/Object Count = 535\n",
            "Frame 130: Edge Count = 23685, Player/Object Count = 551\n",
            "Frame 131: Edge Count = 24395, Player/Object Count = 590\n",
            "Frame 132: Edge Count = 25994, Player/Object Count = 585\n",
            "Frame 133: Edge Count = 26938, Player/Object Count = 624\n",
            "Frame 134: Edge Count = 26423, Player/Object Count = 610\n",
            "Frame 135: Edge Count = 27694, Player/Object Count = 673\n",
            "Frame 136: Edge Count = 28314, Player/Object Count = 642\n",
            "Frame 137: Edge Count = 27797, Player/Object Count = 635\n",
            "Frame 138: Edge Count = 26930, Player/Object Count = 630\n",
            "Frame 139: Edge Count = 26381, Player/Object Count = 656\n",
            "Frame 140: Edge Count = 26704, Player/Object Count = 605\n",
            "Frame 141: Edge Count = 27059, Player/Object Count = 662\n",
            "Frame 142: Edge Count = 28350, Player/Object Count = 683\n",
            "Frame 143: Edge Count = 28863, Player/Object Count = 734\n",
            "Frame 144: Edge Count = 28841, Player/Object Count = 762\n",
            "Frame 145: Edge Count = 29152, Player/Object Count = 847\n",
            "Frame 146: Edge Count = 29152, Player/Object Count = 726\n",
            "Frame 147: Edge Count = 28613, Player/Object Count = 718\n",
            "Frame 148: Edge Count = 28945, Player/Object Count = 713\n",
            "Frame 149: Edge Count = 29237, Player/Object Count = 729\n",
            "Frame 150: Edge Count = 29711, Player/Object Count = 731\n",
            "Frame 151: Edge Count = 30274, Player/Object Count = 772\n",
            "Frame 152: Edge Count = 30640, Player/Object Count = 738\n",
            "Frame 153: Edge Count = 1817, Player/Object Count = 50\n",
            "Frame 154: Edge Count = 2903, Player/Object Count = 55\n",
            "Frame 155: Edge Count = 1527, Player/Object Count = 37\n",
            "Frame 156: Edge Count = 26810, Player/Object Count = 599\n",
            "Frame 157: Edge Count = 21694, Player/Object Count = 538\n",
            "Frame 158: Edge Count = 11562, Player/Object Count = 260\n",
            "Frame 159: Edge Count = 11700, Player/Object Count = 247\n",
            "Frame 160: Edge Count = 19044, Player/Object Count = 409\n",
            "Frame 161: Edge Count = 23167, Player/Object Count = 572\n",
            "Frame 162: Edge Count = 25372, Player/Object Count = 628\n",
            "Frame 163: Edge Count = 22115, Player/Object Count = 531\n",
            "Frame 164: Edge Count = 22753, Player/Object Count = 462\n",
            "Frame 165: Edge Count = 35023, Player/Object Count = 591\n",
            "Frame 166: Edge Count = 35825, Player/Object Count = 572\n",
            "Frame 167: Edge Count = 36868, Player/Object Count = 611\n",
            "Frame 168: Edge Count = 30335, Player/Object Count = 490\n",
            "Frame 169: Edge Count = 15912, Player/Object Count = 389\n",
            "Frame 170: Edge Count = 16594, Player/Object Count = 404\n",
            "Frame 171: Edge Count = 30629, Player/Object Count = 559\n",
            "Frame 172: Edge Count = 31448, Player/Object Count = 476\n",
            "Frame 173: Edge Count = 25782, Player/Object Count = 499\n",
            "Frame 174: Edge Count = 26555, Player/Object Count = 460\n",
            "Frame 175: Edge Count = 7907, Player/Object Count = 158\n",
            "Frame 176: Edge Count = 9419, Player/Object Count = 177\n",
            "Frame 177: Edge Count = 9725, Player/Object Count = 169\n",
            "Frame 178: Edge Count = 9236, Player/Object Count = 163\n",
            "Frame 179: Edge Count = 2601, Player/Object Count = 58\n",
            "Frame 180: Edge Count = 3197, Player/Object Count = 73\n",
            "Frame 181: Edge Count = 16003, Player/Object Count = 288\n",
            "Frame 182: Edge Count = 20303, Player/Object Count = 401\n",
            "Frame 183: Edge Count = 20661, Player/Object Count = 391\n",
            "Frame 184: Edge Count = 19969, Player/Object Count = 372\n",
            "Frame 185: Edge Count = 17722, Player/Object Count = 321\n",
            "Frame 186: Edge Count = 15766, Player/Object Count = 283\n",
            "Frame 187: Edge Count = 16271, Player/Object Count = 303\n",
            "Frame 188: Edge Count = 16000, Player/Object Count = 327\n",
            "Frame 189: Edge Count = 15522, Player/Object Count = 335\n",
            "Frame 190: Edge Count = 15475, Player/Object Count = 328\n",
            "Frame 191: Edge Count = 15536, Player/Object Count = 325\n",
            "Frame 192: Edge Count = 15743, Player/Object Count = 326\n",
            "Frame 193: Edge Count = 15915, Player/Object Count = 346\n",
            "Frame 194: Edge Count = 16189, Player/Object Count = 328\n",
            "Frame 195: Edge Count = 15756, Player/Object Count = 247\n",
            "Frame 196: Edge Count = 16519, Player/Object Count = 233\n",
            "Frame 197: Edge Count = 16853, Player/Object Count = 265\n",
            "Frame 198: Edge Count = 17035, Player/Object Count = 286\n",
            "Frame 199: Edge Count = 17200, Player/Object Count = 311\n",
            "Frame 200: Edge Count = 17542, Player/Object Count = 303\n",
            "Frame 201: Edge Count = 7505, Player/Object Count = 109\n",
            "Frame 202: Edge Count = 6796, Player/Object Count = 130\n",
            "Frame 203: Edge Count = 6221, Player/Object Count = 118\n",
            "Frame 204: Edge Count = 4967, Player/Object Count = 76\n",
            "Frame 205: Edge Count = 9232, Player/Object Count = 125\n",
            "Frame 206: Edge Count = 13316, Player/Object Count = 199\n",
            "Frame 207: Edge Count = 13586, Player/Object Count = 185\n",
            "Frame 208: Edge Count = 15769, Player/Object Count = 217\n",
            "Frame 209: Edge Count = 18976, Player/Object Count = 263\n",
            "Frame 210: Edge Count = 17745, Player/Object Count = 261\n",
            "Frame 211: Edge Count = 15471, Player/Object Count = 246\n",
            "Frame 212: Edge Count = 17961, Player/Object Count = 284\n",
            "Frame 213: Edge Count = 21240, Player/Object Count = 337\n",
            "Frame 214: Edge Count = 29015, Player/Object Count = 359\n",
            "Frame 215: Edge Count = 29680, Player/Object Count = 323\n",
            "Frame 216: Edge Count = 20241, Player/Object Count = 700\n",
            "Frame 217: Edge Count = 21835, Player/Object Count = 747\n",
            "Frame 218: Edge Count = 22715, Player/Object Count = 747\n",
            "Frame 219: Edge Count = 23384, Player/Object Count = 833\n",
            "Frame 220: Edge Count = 24202, Player/Object Count = 809\n",
            "Frame 221: Edge Count = 24455, Player/Object Count = 789\n",
            "Frame 222: Edge Count = 24737, Player/Object Count = 808\n",
            "Frame 223: Edge Count = 24910, Player/Object Count = 838\n",
            "Frame 224: Edge Count = 10953, Player/Object Count = 253\n",
            "Frame 225: Edge Count = 9998, Player/Object Count = 248\n",
            "Frame 226: Edge Count = 7745, Player/Object Count = 170\n",
            "Frame 227: Edge Count = 6832, Player/Object Count = 198\n",
            "Frame 228: Edge Count = 6820, Player/Object Count = 148\n",
            "Frame 229: Edge Count = 6970, Player/Object Count = 162\n",
            "Frame 230: Edge Count = 3141, Player/Object Count = 66\n",
            "Frame 231: Edge Count = 4320, Player/Object Count = 79\n",
            "Frame 232: Edge Count = 9088, Player/Object Count = 142\n",
            "Frame 233: Edge Count = 4527, Player/Object Count = 15\n",
            "Frame 234: Edge Count = 5744, Player/Object Count = 34\n",
            "Frame 235: Edge Count = 6700, Player/Object Count = 42\n",
            "Frame 236: Edge Count = 6876, Player/Object Count = 45\n",
            "Frame 237: Edge Count = 7005, Player/Object Count = 45\n",
            "Frame 238: Edge Count = 7075, Player/Object Count = 45\n",
            "Frame 239: Edge Count = 7075, Player/Object Count = 45\n",
            "Frame 240: Edge Count = 7071, Player/Object Count = 43\n",
            "Frame 241: Edge Count = 7071, Player/Object Count = 43\n",
            "Frame 242: Edge Count = 7071, Player/Object Count = 43\n",
            "Frame 243: Edge Count = 7071, Player/Object Count = 43\n",
            "Frame 244: Edge Count = 7071, Player/Object Count = 43\n",
            "Frame 245: Edge Count = 7079, Player/Object Count = 39\n",
            "Frame 246: Edge Count = 7080, Player/Object Count = 39\n",
            "Frame 247: Edge Count = 7080, Player/Object Count = 39\n",
            "Frame 248: Edge Count = 7080, Player/Object Count = 39\n",
            "Frame 249: Edge Count = 7080, Player/Object Count = 39\n",
            "Frame 250: Edge Count = 7080, Player/Object Count = 39\n",
            "Frame 251: Edge Count = 7080, Player/Object Count = 39\n",
            "Frame 252: Edge Count = 7080, Player/Object Count = 39\n",
            "Frame 253: Edge Count = 7080, Player/Object Count = 39\n",
            "Frame 254: Edge Count = 7080, Player/Object Count = 39\n",
            "Frame 255: Edge Count = 7080, Player/Object Count = 39\n",
            "Frame 256: Edge Count = 7080, Player/Object Count = 39\n",
            "Frame 257: Edge Count = 7080, Player/Object Count = 39\n",
            "Frame 258: Edge Count = 7080, Player/Object Count = 39\n",
            "Frame 259: Edge Count = 7080, Player/Object Count = 39\n",
            "Frame 260: Edge Count = 7080, Player/Object Count = 39\n",
            "Frame 261: Edge Count = 7080, Player/Object Count = 39\n",
            "Frame 262: Edge Count = 7080, Player/Object Count = 39\n",
            "Frame 263: Edge Count = 7062, Player/Object Count = 46\n",
            "Frame 264: Edge Count = 7062, Player/Object Count = 46\n",
            "Frame 265: Edge Count = 7062, Player/Object Count = 46\n",
            "Frame 266: Edge Count = 7062, Player/Object Count = 46\n",
            "Frame 267: Edge Count = 7062, Player/Object Count = 46\n",
            "Frame 268: Edge Count = 7062, Player/Object Count = 46\n",
            "Frame 269: Edge Count = 7062, Player/Object Count = 46\n",
            "Frame 270: Edge Count = 7062, Player/Object Count = 46\n",
            "Frame 271: Edge Count = 7062, Player/Object Count = 46\n",
            "Frame 272: Edge Count = 7063, Player/Object Count = 46\n",
            "Frame 273: Edge Count = 7063, Player/Object Count = 46\n",
            "Frame 274: Edge Count = 7063, Player/Object Count = 46\n",
            "Frame 275: Edge Count = 7063, Player/Object Count = 46\n",
            "Frame 276: Edge Count = 7063, Player/Object Count = 46\n",
            "Frame 277: Edge Count = 7063, Player/Object Count = 46\n",
            "Frame 278: Edge Count = 7063, Player/Object Count = 46\n",
            "Frame 279: Edge Count = 7063, Player/Object Count = 46\n",
            "Frame 280: Edge Count = 7073, Player/Object Count = 44\n",
            "Frame 281: Edge Count = 7073, Player/Object Count = 44\n",
            "Frame 282: Edge Count = 7073, Player/Object Count = 44\n",
            "Frame 283: Edge Count = 7073, Player/Object Count = 44\n",
            "Frame 284: Edge Count = 7073, Player/Object Count = 44\n",
            "Frame 285: Edge Count = 7073, Player/Object Count = 44\n",
            "Frame 286: Edge Count = 7073, Player/Object Count = 44\n",
            "Frame 287: Edge Count = 7073, Player/Object Count = 44\n",
            "Frame 288: Edge Count = 7073, Player/Object Count = 44\n",
            "Frame 289: Edge Count = 7073, Player/Object Count = 44\n",
            "Frame 290: Edge Count = 7073, Player/Object Count = 44\n",
            "Frame 291: Edge Count = 7073, Player/Object Count = 44\n",
            "Frame 292: Edge Count = 7073, Player/Object Count = 44\n",
            "Frame 293: Edge Count = 7073, Player/Object Count = 44\n",
            "Frame 294: Edge Count = 7073, Player/Object Count = 44\n",
            "Frame 295: Edge Count = 7073, Player/Object Count = 44\n",
            "Frame 296: Edge Count = 7073, Player/Object Count = 44\n",
            "Frame 297: Edge Count = 7073, Player/Object Count = 44\n",
            "Frame 298: Edge Count = 7068, Player/Object Count = 43\n",
            "Frame 299: Edge Count = 7068, Player/Object Count = 43\n",
            "Frame 300: Edge Count = 7068, Player/Object Count = 43\n",
            "Frame 301: Edge Count = 7068, Player/Object Count = 43\n",
            "Frame 302: Edge Count = 7068, Player/Object Count = 43\n",
            "Frame 303: Edge Count = 7068, Player/Object Count = 43\n",
            "Frame 304: Edge Count = 5985, Player/Object Count = 34\n",
            "Frame 305: Edge Count = 5985, Player/Object Count = 34\n"
          ]
        }
      ]
    },
    {
      "cell_type": "code",
      "source": [
        "spark.stop()\n"
      ],
      "metadata": {
        "id": "XdSRKfaubvrU"
      },
      "execution_count": null,
      "outputs": []
    },
    {
      "cell_type": "code",
      "source": [
        "import cv2\n",
        "from google.colab.patches import cv2_imshow\n",
        "\n",
        "video_file_path = \"/content/Sankalp/madrid vs city.mp4\"\n",
        "\n",
        "video_capture = cv2.VideoCapture(video_file_path)\n",
        "\n",
        "if not video_capture.isOpened():\n",
        "    print(\"Error opening video stream or file\")\n",
        "    exit()\n",
        "\n",
        "while True:\n",
        "    ret, frame = video_capture.read()\n",
        "\n",
        "    if not ret:\n",
        "        print(\"Can't receive frame (stream end?). Exiting ...\")\n",
        "        break\n",
        "\n",
        "    gray = cv2.cvtColor(frame, cv2.COLOR_BGR2GRAY)\n",
        "    cv2_imshow(gray)\n",
        "\n",
        "    if cv2.waitKey(1) & 0xFF == ord('q'):\n",
        "        break\n",
        "\n",
        "video_capture.release()\n",
        "cv2.destroyAllWindows()"
      ],
      "metadata": {
        "colab": {
          "base_uri": "https://localhost:8080/",
          "height": 1000
        },
        "id": "e1MakbxPcDNv",
        "outputId": "774e168c-3678-4fcb-836f-6d92c8be0f12"
      },
      "execution_count": null,
      "outputs": []
    },
    {
      "cell_type": "code",
      "source": [
        "import cv2\n",
        "import os\n",
        "\n",
        "output_directory = 'MATCH'\n",
        "os.makedirs(output_directory, exist_ok=True)\n",
        "video_file_path = \"/content/Sankalp/madrid vs city.mp4\"\n",
        "\n",
        "video_capture = cv2.VideoCapture(video_file_path)\n",
        "\n",
        "if not video_capture.isOpened():\n",
        "    print(\"Error opening video file\")\n",
        "    exit()\n",
        "\n",
        "frame_count = 0\n",
        "while True:\n",
        "    ret, frame = video_capture.read()\n",
        "\n",
        "    if not ret:\n",
        "        print(\"Can't receive frame (stream end?). Exiting ...\")\n",
        "        break\n",
        "\n",
        "    output_filename = os.path.join(output_directory, f\"frame_{frame_count:04d}.jpg\")\n",
        "    cv2.imwrite(output_filename, frame)\n",
        "\n",
        "    frame_count += 1\n",
        "\n",
        "video_capture.release()\n",
        "print(f\"Saved {frame_count} frames to the 'MATCH' directory.\")"
      ],
      "metadata": {
        "colab": {
          "base_uri": "https://localhost:8080/"
        },
        "id": "3vKYh8zFgkbk",
        "outputId": "08ebbde3-9237-4c84-9379-3d62634fd74e"
      },
      "execution_count": null,
      "outputs": [
        {
          "output_type": "stream",
          "name": "stdout",
          "text": [
            "Can't receive frame (stream end?). Exiting ...\n",
            "Saved 3051 frames to the 'MATCH' directory.\n"
          ]
        }
      ]
    },
    {
      "cell_type": "code",
      "source": [
        "import zipfile\n",
        "import os\n",
        "\n",
        "def zip_folder(folder_path, zip_file_name):\n",
        "    try:\n",
        "        with zipfile.ZipFile(zip_file_name, 'w', zipfile.ZIP_DEFLATED) as zipf:\n",
        "            for root, _, files in os.walk(folder_path):\n",
        "                for file in files:\n",
        "                    file_path = os.path.join(root, file)\n",
        "                    zipf.write(file_path, arcname=os.path.relpath(file_path, folder_path))\n",
        "        print(f\"Successfully zipped '{folder_path}' to '{zip_file_name}'\")\n",
        "    except FileNotFoundError:\n",
        "        print(f\"Error: Folder not found at '{folder_path}'\")\n",
        "    except Exception as e:\n",
        "        print(f\"An unexpected error occurred: {e}\")\n",
        "\n",
        "folder_to_zip = 'MATCH'\n",
        "zip_file_name = 'MATCH.zip'\n",
        "\n",
        "zip_folder(folder_to_zip, zip_file_name)"
      ],
      "metadata": {
        "colab": {
          "base_uri": "https://localhost:8080/"
        },
        "id": "tmK6g_GxhIwb",
        "outputId": "413b1532-8cd7-4dd8-dfd6-969caf7bbd6d"
      },
      "execution_count": null,
      "outputs": [
        {
          "output_type": "stream",
          "name": "stdout",
          "text": [
            "Successfully zipped 'MATCH' to 'MATCH.zip'\n"
          ]
        }
      ]
    }
  ]
}